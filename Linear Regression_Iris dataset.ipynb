{
 "cells": [
  {
   "cell_type": "markdown",
   "metadata": {},
   "source": [
    "## Linear Regression on Iris data set"
   ]
  },
  {
   "cell_type": "code",
   "execution_count": 1,
   "metadata": {
    "ExecuteTime": {
     "end_time": "2020-04-23T13:42:52.106724Z",
     "start_time": "2020-04-23T13:42:50.537611Z"
    }
   },
   "outputs": [],
   "source": [
    "import pandas as pd\n",
    "import numpy as np\n",
    "import seaborn as sns\n",
    "import matplotlib.pyplot\n",
    "import warnings\n",
    "warnings.filterwarnings('ignore')"
   ]
  },
  {
   "cell_type": "code",
   "execution_count": 2,
   "metadata": {
    "ExecuteTime": {
     "end_time": "2020-04-23T13:42:52.212800Z",
     "start_time": "2020-04-23T13:42:52.109726Z"
    }
   },
   "outputs": [
    {
     "data": {
      "text/html": [
       "<div>\n",
       "<style scoped>\n",
       "    .dataframe tbody tr th:only-of-type {\n",
       "        vertical-align: middle;\n",
       "    }\n",
       "\n",
       "    .dataframe tbody tr th {\n",
       "        vertical-align: top;\n",
       "    }\n",
       "\n",
       "    .dataframe thead th {\n",
       "        text-align: right;\n",
       "    }\n",
       "</style>\n",
       "<table border=\"1\" class=\"dataframe\">\n",
       "  <thead>\n",
       "    <tr style=\"text-align: right;\">\n",
       "      <th></th>\n",
       "      <th>sepal_length</th>\n",
       "      <th>sepal_width</th>\n",
       "      <th>petal_length</th>\n",
       "      <th>petal_width</th>\n",
       "      <th>species</th>\n",
       "    </tr>\n",
       "  </thead>\n",
       "  <tbody>\n",
       "    <tr>\n",
       "      <th>0</th>\n",
       "      <td>5.1</td>\n",
       "      <td>3.5</td>\n",
       "      <td>1.4</td>\n",
       "      <td>0.2</td>\n",
       "      <td>setosa</td>\n",
       "    </tr>\n",
       "    <tr>\n",
       "      <th>1</th>\n",
       "      <td>4.9</td>\n",
       "      <td>3.0</td>\n",
       "      <td>1.4</td>\n",
       "      <td>0.2</td>\n",
       "      <td>setosa</td>\n",
       "    </tr>\n",
       "    <tr>\n",
       "      <th>2</th>\n",
       "      <td>4.7</td>\n",
       "      <td>3.2</td>\n",
       "      <td>1.3</td>\n",
       "      <td>0.2</td>\n",
       "      <td>setosa</td>\n",
       "    </tr>\n",
       "  </tbody>\n",
       "</table>\n",
       "</div>"
      ],
      "text/plain": [
       "   sepal_length  sepal_width  petal_length  petal_width species\n",
       "0           5.1          3.5           1.4          0.2  setosa\n",
       "1           4.9          3.0           1.4          0.2  setosa\n",
       "2           4.7          3.2           1.3          0.2  setosa"
      ]
     },
     "execution_count": 2,
     "metadata": {},
     "output_type": "execute_result"
    }
   ],
   "source": [
    "#Loading the dataset\n",
    "df=sns.load_dataset('iris')\n",
    "df.head(3)"
   ]
  },
  {
   "cell_type": "code",
   "execution_count": 3,
   "metadata": {
    "ExecuteTime": {
     "end_time": "2020-04-23T13:42:52.346910Z",
     "start_time": "2020-04-23T13:42:52.215801Z"
    }
   },
   "outputs": [
    {
     "data": {
      "text/plain": [
       "sepal_length    0\n",
       "sepal_width     0\n",
       "petal_length    0\n",
       "petal_width     0\n",
       "species         0\n",
       "dtype: int64"
      ]
     },
     "execution_count": 3,
     "metadata": {},
     "output_type": "execute_result"
    }
   ],
   "source": [
    "#Checking for any null value\n",
    "df.isna().sum()"
   ]
  },
  {
   "cell_type": "code",
   "execution_count": 4,
   "metadata": {
    "ExecuteTime": {
     "end_time": "2020-04-23T13:42:52.568054Z",
     "start_time": "2020-04-23T13:42:52.350896Z"
    }
   },
   "outputs": [
    {
     "data": {
      "text/html": [
       "<div>\n",
       "<style scoped>\n",
       "    .dataframe tbody tr th:only-of-type {\n",
       "        vertical-align: middle;\n",
       "    }\n",
       "\n",
       "    .dataframe tbody tr th {\n",
       "        vertical-align: top;\n",
       "    }\n",
       "\n",
       "    .dataframe thead th {\n",
       "        text-align: right;\n",
       "    }\n",
       "</style>\n",
       "<table border=\"1\" class=\"dataframe\">\n",
       "  <thead>\n",
       "    <tr style=\"text-align: right;\">\n",
       "      <th></th>\n",
       "      <th>sepal_width</th>\n",
       "      <th>petal_length</th>\n",
       "      <th>petal_width</th>\n",
       "      <th>species</th>\n",
       "    </tr>\n",
       "  </thead>\n",
       "  <tbody>\n",
       "    <tr>\n",
       "      <th>0</th>\n",
       "      <td>3.5</td>\n",
       "      <td>1.4</td>\n",
       "      <td>0.2</td>\n",
       "      <td>setosa</td>\n",
       "    </tr>\n",
       "    <tr>\n",
       "      <th>1</th>\n",
       "      <td>3.0</td>\n",
       "      <td>1.4</td>\n",
       "      <td>0.2</td>\n",
       "      <td>setosa</td>\n",
       "    </tr>\n",
       "    <tr>\n",
       "      <th>2</th>\n",
       "      <td>3.2</td>\n",
       "      <td>1.3</td>\n",
       "      <td>0.2</td>\n",
       "      <td>setosa</td>\n",
       "    </tr>\n",
       "  </tbody>\n",
       "</table>\n",
       "</div>"
      ],
      "text/plain": [
       "   sepal_width  petal_length  petal_width species\n",
       "0          3.5           1.4          0.2  setosa\n",
       "1          3.0           1.4          0.2  setosa\n",
       "2          3.2           1.3          0.2  setosa"
      ]
     },
     "execution_count": 4,
     "metadata": {},
     "output_type": "execute_result"
    }
   ],
   "source": [
    "#Extracting Dependent and Independent variables\n",
    "Y=df[['sepal_length']]\n",
    "X=df.drop(['sepal_length'],axis=1)\n",
    "X.head(3)"
   ]
  },
  {
   "cell_type": "code",
   "execution_count": 5,
   "metadata": {
    "ExecuteTime": {
     "end_time": "2020-04-23T13:42:52.756218Z",
     "start_time": "2020-04-23T13:42:52.572054Z"
    }
   },
   "outputs": [],
   "source": [
    "# Extracting categorical and numerical columns for pre-processing\n",
    "num=[i for i in X.describe().columns]\n",
    "cat=[i for i in X.columns if i not in num]"
   ]
  },
  {
   "cell_type": "markdown",
   "metadata": {},
   "source": [
    "### Encoding"
   ]
  },
  {
   "cell_type": "code",
   "execution_count": 6,
   "metadata": {
    "ExecuteTime": {
     "end_time": "2020-04-23T13:42:52.992368Z",
     "start_time": "2020-04-23T13:42:52.758201Z"
    }
   },
   "outputs": [
    {
     "data": {
      "text/html": [
       "<div>\n",
       "<style scoped>\n",
       "    .dataframe tbody tr th:only-of-type {\n",
       "        vertical-align: middle;\n",
       "    }\n",
       "\n",
       "    .dataframe tbody tr th {\n",
       "        vertical-align: top;\n",
       "    }\n",
       "\n",
       "    .dataframe thead th {\n",
       "        text-align: right;\n",
       "    }\n",
       "</style>\n",
       "<table border=\"1\" class=\"dataframe\">\n",
       "  <thead>\n",
       "    <tr style=\"text-align: right;\">\n",
       "      <th></th>\n",
       "      <th>sepal_width</th>\n",
       "      <th>petal_length</th>\n",
       "      <th>petal_width</th>\n",
       "      <th>species</th>\n",
       "    </tr>\n",
       "  </thead>\n",
       "  <tbody>\n",
       "    <tr>\n",
       "      <th>0</th>\n",
       "      <td>0.625000</td>\n",
       "      <td>0.067797</td>\n",
       "      <td>0.041667</td>\n",
       "      <td>setosa</td>\n",
       "    </tr>\n",
       "    <tr>\n",
       "      <th>1</th>\n",
       "      <td>0.416667</td>\n",
       "      <td>0.067797</td>\n",
       "      <td>0.041667</td>\n",
       "      <td>setosa</td>\n",
       "    </tr>\n",
       "    <tr>\n",
       "      <th>2</th>\n",
       "      <td>0.500000</td>\n",
       "      <td>0.050847</td>\n",
       "      <td>0.041667</td>\n",
       "      <td>setosa</td>\n",
       "    </tr>\n",
       "    <tr>\n",
       "      <th>3</th>\n",
       "      <td>0.458333</td>\n",
       "      <td>0.084746</td>\n",
       "      <td>0.041667</td>\n",
       "      <td>setosa</td>\n",
       "    </tr>\n",
       "    <tr>\n",
       "      <th>4</th>\n",
       "      <td>0.666667</td>\n",
       "      <td>0.067797</td>\n",
       "      <td>0.041667</td>\n",
       "      <td>setosa</td>\n",
       "    </tr>\n",
       "  </tbody>\n",
       "</table>\n",
       "</div>"
      ],
      "text/plain": [
       "   sepal_width  petal_length  petal_width species\n",
       "0     0.625000      0.067797     0.041667  setosa\n",
       "1     0.416667      0.067797     0.041667  setosa\n",
       "2     0.500000      0.050847     0.041667  setosa\n",
       "3     0.458333      0.084746     0.041667  setosa\n",
       "4     0.666667      0.067797     0.041667  setosa"
      ]
     },
     "execution_count": 6,
     "metadata": {},
     "output_type": "execute_result"
    }
   ],
   "source": [
    "from sklearn.preprocessing import MinMaxScaler\n",
    "mn=MinMaxScaler()\n",
    "mn.fit(X[num])\n",
    "X[num]=mn.transform(X[num])\n",
    "X.head()"
   ]
  },
  {
   "cell_type": "code",
   "execution_count": 7,
   "metadata": {
    "ExecuteTime": {
     "end_time": "2020-04-23T13:42:53.153468Z",
     "start_time": "2020-04-23T13:42:52.994354Z"
    }
   },
   "outputs": [
    {
     "data": {
      "text/html": [
       "<div>\n",
       "<style scoped>\n",
       "    .dataframe tbody tr th:only-of-type {\n",
       "        vertical-align: middle;\n",
       "    }\n",
       "\n",
       "    .dataframe tbody tr th {\n",
       "        vertical-align: top;\n",
       "    }\n",
       "\n",
       "    .dataframe thead th {\n",
       "        text-align: right;\n",
       "    }\n",
       "</style>\n",
       "<table border=\"1\" class=\"dataframe\">\n",
       "  <thead>\n",
       "    <tr style=\"text-align: right;\">\n",
       "      <th></th>\n",
       "      <th>sepal_width</th>\n",
       "      <th>petal_length</th>\n",
       "      <th>petal_width</th>\n",
       "      <th>species</th>\n",
       "    </tr>\n",
       "  </thead>\n",
       "  <tbody>\n",
       "    <tr>\n",
       "      <th>0</th>\n",
       "      <td>0.625000</td>\n",
       "      <td>0.067797</td>\n",
       "      <td>0.041667</td>\n",
       "      <td>0</td>\n",
       "    </tr>\n",
       "    <tr>\n",
       "      <th>1</th>\n",
       "      <td>0.416667</td>\n",
       "      <td>0.067797</td>\n",
       "      <td>0.041667</td>\n",
       "      <td>0</td>\n",
       "    </tr>\n",
       "    <tr>\n",
       "      <th>2</th>\n",
       "      <td>0.500000</td>\n",
       "      <td>0.050847</td>\n",
       "      <td>0.041667</td>\n",
       "      <td>0</td>\n",
       "    </tr>\n",
       "    <tr>\n",
       "      <th>3</th>\n",
       "      <td>0.458333</td>\n",
       "      <td>0.084746</td>\n",
       "      <td>0.041667</td>\n",
       "      <td>0</td>\n",
       "    </tr>\n",
       "    <tr>\n",
       "      <th>4</th>\n",
       "      <td>0.666667</td>\n",
       "      <td>0.067797</td>\n",
       "      <td>0.041667</td>\n",
       "      <td>0</td>\n",
       "    </tr>\n",
       "  </tbody>\n",
       "</table>\n",
       "</div>"
      ],
      "text/plain": [
       "   sepal_width  petal_length  petal_width  species\n",
       "0     0.625000      0.067797     0.041667        0\n",
       "1     0.416667      0.067797     0.041667        0\n",
       "2     0.500000      0.050847     0.041667        0\n",
       "3     0.458333      0.084746     0.041667        0\n",
       "4     0.666667      0.067797     0.041667        0"
      ]
     },
     "execution_count": 7,
     "metadata": {},
     "output_type": "execute_result"
    }
   ],
   "source": [
    "from sklearn.preprocessing import LabelEncoder\n",
    "lb=LabelEncoder()\n",
    "lb.fit(X[cat])\n",
    "X[cat]=lb.transform(X[cat])\n",
    "X.head()"
   ]
  },
  {
   "cell_type": "markdown",
   "metadata": {},
   "source": [
    "### Splitting the data set"
   ]
  },
  {
   "cell_type": "code",
   "execution_count": 8,
   "metadata": {
    "ExecuteTime": {
     "end_time": "2020-04-23T13:42:53.318583Z",
     "start_time": "2020-04-23T13:42:53.163474Z"
    }
   },
   "outputs": [],
   "source": [
    "from sklearn.model_selection import train_test_split\n",
    "xtrain,xtest,ytrain,ytest=train_test_split(X,Y,test_size=0.3,random_state=1)"
   ]
  },
  {
   "cell_type": "markdown",
   "metadata": {},
   "source": [
    "### Linear Regression_Method 1- Using numpy "
   ]
  },
  {
   "cell_type": "code",
   "execution_count": 9,
   "metadata": {
    "ExecuteTime": {
     "end_time": "2020-04-23T13:42:53.487738Z",
     "start_time": "2020-04-23T13:42:53.322587Z"
    }
   },
   "outputs": [],
   "source": [
    "from numpy.linalg import inv\n",
    "m1=np.dot(xtrain.T,xtrain)\n",
    "m2=inv(m1)"
   ]
  },
  {
   "cell_type": "code",
   "execution_count": 10,
   "metadata": {
    "ExecuteTime": {
     "end_time": "2020-04-23T13:42:53.635839Z",
     "start_time": "2020-04-23T13:42:53.490706Z"
    }
   },
   "outputs": [],
   "source": [
    "m3=np.dot(xtrain.T,ytrain)\n",
    "b=np.dot(m2,m3)"
   ]
  },
  {
   "cell_type": "code",
   "execution_count": 11,
   "metadata": {
    "ExecuteTime": {
     "end_time": "2020-04-23T13:42:53.791928Z",
     "start_time": "2020-04-23T13:42:53.641822Z"
    }
   },
   "outputs": [],
   "source": [
    "ytrain_pred=np.dot(xtrain,b)\n",
    "ytest_pred=np.dot(xtest,b)"
   ]
  },
  {
   "cell_type": "code",
   "execution_count": 12,
   "metadata": {
    "ExecuteTime": {
     "end_time": "2020-04-23T13:42:53.941062Z",
     "start_time": "2020-04-23T13:42:53.796953Z"
    }
   },
   "outputs": [],
   "source": [
    "from sklearn.metrics import mean_squared_error,mean_absolute_error,r2_score\n",
    "mse_train=mean_squared_error(ytrain,ytrain_pred)\n",
    "mae_train=mean_absolute_error(ytrain,ytrain_pred)\n",
    "r2_train=r2_score(ytrain,ytrain_pred)\n",
    "\n",
    "mse_test=mean_squared_error(ytest,ytest_pred)\n",
    "mae_test=mean_absolute_error(ytest,ytest_pred)\n",
    "r2_test=r2_score(ytest,ytest_pred)"
   ]
  },
  {
   "cell_type": "code",
   "execution_count": 13,
   "metadata": {
    "ExecuteTime": {
     "end_time": "2020-04-23T13:42:54.082134Z",
     "start_time": "2020-04-23T13:42:53.943029Z"
    }
   },
   "outputs": [
    {
     "name": "stdout",
     "output_type": "stream",
     "text": [
      "Train analysis\n",
      "mse:1.0456294717204635\n",
      "mae:0.7999148923641392\n",
      "r2:-0.4800632856652558\n",
      "****************************************************************************************************\n",
      "Test analysis\n",
      "mse:0.9133455169227045\n",
      "mae:0.7412449711787509\n",
      "r2:-0.5038008551658477\n"
     ]
    }
   ],
   "source": [
    "print(\"Train analysis\")\n",
    "print(f\"mse:{mse_train}\")\n",
    "print(f\"mae:{mae_train}\")\n",
    "print(f\"r2:{r2_train}\")\n",
    "\n",
    "print(\"*\"*100)\n",
    "print(\"Test analysis\")\n",
    "print(f\"mse:{mse_test}\")\n",
    "print(f\"mae:{mae_test}\")\n",
    "print(f\"r2:{r2_test}\")"
   ]
  },
  {
   "cell_type": "markdown",
   "metadata": {},
   "source": [
    "### Linear Regression_Method 2-Using sklearn"
   ]
  },
  {
   "cell_type": "code",
   "execution_count": 14,
   "metadata": {
    "ExecuteTime": {
     "end_time": "2020-04-23T13:42:54.249247Z",
     "start_time": "2020-04-23T13:42:54.090135Z"
    }
   },
   "outputs": [],
   "source": [
    "from sklearn.linear_model import LinearRegression\n",
    "ln=LinearRegression()\n",
    "ln.fit(xtrain,ytrain)\n",
    "ytrain_pred1=ln.predict(xtrain)\n",
    "coef=ln.coef_"
   ]
  },
  {
   "cell_type": "code",
   "execution_count": 15,
   "metadata": {
    "ExecuteTime": {
     "end_time": "2020-04-23T13:42:54.353336Z",
     "start_time": "2020-04-23T13:42:54.251246Z"
    }
   },
   "outputs": [],
   "source": [
    "#using sklearn predict function\n",
    "ytest_pred1=ln.predict(xtest)\n",
    "#using coefficcient recievd from sklearn coef_\n",
    "ytest_pred2=np.dot(xtest,coef.T)"
   ]
  },
  {
   "cell_type": "code",
   "execution_count": 16,
   "metadata": {
    "ExecuteTime": {
     "end_time": "2020-04-23T13:42:54.482411Z",
     "start_time": "2020-04-23T13:42:54.355321Z"
    }
   },
   "outputs": [],
   "source": [
    "mse_train=mean_squared_error(ytrain,ytrain_pred1)\n",
    "mae_train=mean_absolute_error(ytrain,ytrain_pred1)\n",
    "r2_train=r2_score(ytrain,ytrain_pred1)\n",
    "\n",
    "#using sklearn predict functoion\n",
    "mse_test1=mean_squared_error(ytest,ytest_pred1)\n",
    "mae_test1=mean_absolute_error(ytest,ytest_pred1)\n",
    "r2_test1=r2_score(ytest,ytest_pred1)\n",
    "\n",
    "#using coefficcient recievd from sklearn coef_\n",
    "mse_test2=mean_squared_error(ytest,ytest_pred2)\n",
    "mae_test2=mean_absolute_error(ytest,ytest_pred2)\n",
    "r2_test2=r2_score(ytest,ytest_pred2)"
   ]
  },
  {
   "cell_type": "code",
   "execution_count": 17,
   "metadata": {
    "ExecuteTime": {
     "end_time": "2020-04-23T13:42:54.606499Z",
     "start_time": "2020-04-23T13:42:54.484412Z"
    }
   },
   "outputs": [
    {
     "name": "stdout",
     "output_type": "stream",
     "text": [
      "Train analysis\n",
      "mse:0.08083881467611534\n",
      "mae:0.23376094829799096\n",
      "r2:0.8855746085064423\n",
      "****************************************************************************************************\n",
      "Test analysis-#using sklearn predict functoion\n",
      "mse:0.13668579024197416\n",
      "mae:0.2944793177372995\n",
      "r2:0.7749502193349072\n",
      "****************************************************************************************************\n",
      "Test analysis-using coefficcient recievd from sklearn coef_\n",
      "mse:15.234964918004058\n",
      "mae:3.8860352410269665\n",
      "r2:-24.083993787265804\n"
     ]
    }
   ],
   "source": [
    "print(\"Train analysis\")\n",
    "print(f\"mse:{mse_train}\")\n",
    "print(f\"mae:{mae_train}\")\n",
    "print(f\"r2:{r2_train}\")\n",
    "\n",
    "#using sklearn predict functoion\n",
    "print(\"*\"*100)\n",
    "print(\"Test analysis-#using sklearn predict functoion\")\n",
    "print(f\"mse:{mse_test1}\")\n",
    "print(f\"mae:{mae_test1}\")\n",
    "print(f\"r2:{r2_test1}\")\n",
    "\n",
    "#using coefficcient recievd from sklearn coef_\n",
    "print(\"*\"*100)\n",
    "print(\"Test analysis-using coefficcient recievd from sklearn coef_\")\n",
    "print(f\"mse:{mse_test2}\")\n",
    "print(f\"mae:{mae_test2}\")\n",
    "print(f\"r2:{r2_test2}\")"
   ]
  }
 ],
 "metadata": {
  "kernelspec": {
   "display_name": "Python 3",
   "language": "python",
   "name": "python3"
  },
  "language_info": {
   "codemirror_mode": {
    "name": "ipython",
    "version": 3
   },
   "file_extension": ".py",
   "mimetype": "text/x-python",
   "name": "python",
   "nbconvert_exporter": "python",
   "pygments_lexer": "ipython3",
   "version": "3.7.3"
  },
  "toc": {
   "base_numbering": 1,
   "nav_menu": {},
   "number_sections": true,
   "sideBar": true,
   "skip_h1_title": false,
   "title_cell": "Table of Contents",
   "title_sidebar": "Contents",
   "toc_cell": false,
   "toc_position": {},
   "toc_section_display": true,
   "toc_window_display": false
  }
 },
 "nbformat": 4,
 "nbformat_minor": 2
}
